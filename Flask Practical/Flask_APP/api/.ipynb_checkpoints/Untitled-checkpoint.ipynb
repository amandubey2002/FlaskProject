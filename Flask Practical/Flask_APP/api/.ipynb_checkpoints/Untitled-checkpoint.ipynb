{
 "cells": [
  {
   "cell_type": "code",
   "execution_count": 6,
   "id": "c6295edb-f80f-4ead-aabd-73ae3930cb21",
   "metadata": {
    "tags": []
   },
   "outputs": [
    {
     "ename": "TypeError",
     "evalue": "read_csv() got an unexpected keyword argument 'decode'",
     "output_type": "error",
     "traceback": [
      "\u001b[0;31m---------------------------------------------------------------------------\u001b[0m",
      "\u001b[0;31mTypeError\u001b[0m                                 Traceback (most recent call last)",
      "Cell \u001b[0;32mIn[6], line 51\u001b[0m\n\u001b[1;32m     49\u001b[0m \u001b[38;5;28;01mimport\u001b[39;00m \u001b[38;5;21;01mmysql\u001b[39;00m\u001b[38;5;21;01m.\u001b[39;00m\u001b[38;5;21;01mconnector\u001b[39;00m\n\u001b[1;32m     50\u001b[0m \u001b[38;5;28;01mimport\u001b[39;00m \u001b[38;5;21;01mpandas\u001b[39;00m \u001b[38;5;28;01mas\u001b[39;00m \u001b[38;5;21;01mpd\u001b[39;00m\n\u001b[0;32m---> 51\u001b[0m read_data_csv_file \u001b[38;5;241m=\u001b[39m\u001b[43mpd\u001b[49m\u001b[38;5;241;43m.\u001b[39;49m\u001b[43mread_csv\u001b[49m\u001b[43m(\u001b[49m\u001b[38;5;124;43m\"\u001b[39;49m\u001b[38;5;124;43mproducts_export_1.csv\u001b[39;49m\u001b[38;5;124;43m\"\u001b[39;49m\u001b[43m,\u001b[49m\u001b[43mdecode\u001b[49m\u001b[38;5;241;43m=\u001b[39;49m\u001b[38;5;124;43m'\u001b[39;49m\u001b[38;5;124;43mutf-8\u001b[39;49m\u001b[38;5;124;43m'\u001b[39;49m\u001b[43m)\u001b[49m\n\u001b[1;32m     52\u001b[0m read_data_csv_file \u001b[38;5;241m=\u001b[39mread_data_csv_file\u001b[38;5;241m.\u001b[39mfillna(\u001b[38;5;124m\"\u001b[39m\u001b[38;5;124m\"\u001b[39m)\n\u001b[1;32m     53\u001b[0m \u001b[38;5;66;03m#read_data_csv_file.head()\u001b[39;00m\n",
      "\u001b[0;31mTypeError\u001b[0m: read_csv() got an unexpected keyword argument 'decode'"
     ]
    }
   ],
   "source": [
    "all_column = \"\"\"handle , \n",
    "   title , \n",
    "   body_html , \n",
    "   vendor , \n",
    "   type , \n",
    "   tags, \n",
    "   published , \n",
    "   option1_name , \n",
    "   option1_value , \n",
    "   option2_name , \n",
    "   option2_value , \n",
    "   option3_name , \n",
    "   option3_value , \n",
    "   variant_sku , \n",
    "   variant_grams , \n",
    "   variant_inventory_tracker , \n",
    "   variant_inventory_policy, \n",
    "   variant_fulfillment_service , \n",
    "   variant_price , \n",
    "   variant_compare_at_price , \n",
    "   variant_requires_shipping , \n",
    "   variant_taxable , \n",
    "   variant_barcode , \n",
    "   image_src , \n",
    "   image_position , \n",
    "   image_alt_text , \n",
    "   gift_card , \n",
    "   seo_title , \n",
    "   seo_description , \n",
    "   google_shopping_google_product_category , \n",
    "   google_shopping_gender , \n",
    "   google_shopping_age_group , \n",
    "   google_shopping_mpn , \n",
    "   google_shopping_adwords_grouping , \n",
    "   google_shopping_adwords_labels , \n",
    "   google_shopping_condition , \n",
    "   google_shopping_custom_product , \n",
    "   google_shopping_custom_label_0 , \n",
    "   google_shopping_custom_label_1 , \n",
    "   google_shopping_custom_label_2 , \n",
    "   google_shopping_custom_label_3, \n",
    "   google_shopping_custom_label_4 , \n",
    "   variant_image , \n",
    "   variant_weight_unit , \n",
    "   variant_tax_code , \n",
    "   cost_per_item , \n",
    "   status \"\"\"\n",
    "\n",
    "import mysql.connector\n",
    "import pandas as pd\n",
    "read_data_csv_file =pd.read_csv(\"products_export_1.csv\")\n",
    "print(read_data_csv_file.head)\n",
    "read_data_csv_file =read_data_csv_file.fillna(\"\")\n",
    "#read_data_csv_file.head()\n",
    "table_name = \"insert_dynamic_data_csv\"\n",
    "mysqlcsv =mysql.connector.connect(username=\"root\",database=\"FlaskDB\",password=\"Dubey@123\",host=\"localhost\")\n",
    "cursor =mysqlcsv.cursor()\n",
    "\n",
    "insert_stmt = f\"INSERT INTO {table_name} ({','.join([col for col in all_column])}) VALUES ({','.join(['%s']*len(all_column))})\"\n",
    "#print(insert_stmt)\n",
    "print(read_data_csv_file.columns)\n",
    "print(len(read_data_csv_file.columns))\n",
    "for i , row in read_data_csv_file.iterrows():\n",
    "    #values = (\",\".join(row[f\"{ii}\"]) for ii in read_data_csv_file.columns)\n",
    "    values = (row[\"Handle\"],row[\"Title\"],row[\"Body (HTML)\"],row[\"Vendor\"],row[\"Type\"],row[\"Tags\"],row[\"Published\"],\n",
    "        row[\"Option1 Name\"],row[\"Option1 Value\"],row[\"Option2 Name\"],row[\"Option2 Value\"],row[\"Option3 Name\"],\n",
    "        row[\"Option3 Value\"],row[\"Variant SKU\"],row[\"Variant Grams\"],row[\"Variant Inventory Tracker\"],row[\"Variant Inventory Policy\"],\n",
    "        row[\"Variant Fulfillment Service\"],row[\"Variant Price\"],row[\"Variant Compare At Price\"],row[\"Variant Requires Shipping\"],\n",
    "        row[\"Variant Taxable\"],row[\"Variant Barcode\"],row[\"Image Src\"],row[\"Image Position\"],row[\"Image Alt Text\"],row[\"Gift Card\"],\n",
    "        row[\"SEO Title\"],row[\"SEO Description\"],row[\"Google Shopping / Google Product Category\"],\n",
    "        row[\"Google Shopping / Gender\"],row[\"Google Shopping / Age Group\"],row[\"Google Shopping / MPN\"],\n",
    "        row[\"Google Shopping / AdWords Grouping\"],row[\"Google Shopping / AdWords Labels\"],row[\"Google Shopping / Condition\"],\n",
    "        row[\"Google Shopping / Custom Product\"],row[\"Google Shopping / Custom Label 0\"],\n",
    "        row[\"Google Shopping / Custom Label 1\"],row[\"Google Shopping / Custom Label 2\"],\n",
    "        row[\"Google Shopping / Custom Label 3\"],row[\"Google Shopping / Custom Label 4\"],\n",
    "        row[\"Variant Image\"],row[\"Variant Weight Unit\"],row[\"Variant Tax Code\"],row[\"Cost per item\"],row[\"Status\"])\n",
    "    print(len(values))\n",
    "    print(i,values)\n",
    "    cursor.execute(insert_stmt,values)\n",
    "cursor.close()\n",
    "mysqlcsv.commit()"
   ]
  },
  {
   "cell_type": "code",
   "execution_count": null,
   "id": "9ac45023-5c8c-44be-b453-3d13bbe5a4c8",
   "metadata": {},
   "outputs": [],
   "source": []
  },
  {
   "cell_type": "code",
   "execution_count": null,
   "id": "5abc1387-0d47-4b98-9b4d-a42746fb5950",
   "metadata": {},
   "outputs": [],
   "source": []
  }
 ],
 "metadata": {
  "kernelspec": {
   "display_name": "Python 3 (ipykernel)",
   "language": "python",
   "name": "python3"
  },
  "language_info": {
   "codemirror_mode": {
    "name": "ipython",
    "version": 3
   },
   "file_extension": ".py",
   "mimetype": "text/x-python",
   "name": "python",
   "nbconvert_exporter": "python",
   "pygments_lexer": "ipython3",
   "version": "3.11.2"
  }
 },
 "nbformat": 4,
 "nbformat_minor": 5
}
